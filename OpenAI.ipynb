{
 "cells": [
  {
   "cell_type": "markdown",
   "metadata": {},
   "source": [
    "## Big Data Analytics with LLM - OpenAI ChatGPT"
   ]
  },
  {
   "cell_type": "markdown",
   "metadata": {},
   "source": [
    "Install and Import required libraries"
   ]
  },
  {
   "cell_type": "code",
   "execution_count": 14,
   "metadata": {},
   "outputs": [
    {
     "name": "stdout",
     "output_type": "stream",
     "text": [
      "Requirement already satisfied: pandas in c:\\users\\ahmed ashraf\\appdata\\local\\programs\\python\\python310\\lib\\site-packages (1.5.3)\n",
      "Requirement already satisfied: numpy in c:\\users\\ahmed ashraf\\appdata\\local\\programs\\python\\python310\\lib\\site-packages (1.24.3)\n",
      "Requirement already satisfied: python-dateutil>=2.8.1 in c:\\users\\ahmed ashraf\\appdata\\local\\programs\\python\\python310\\lib\\site-packages (from pandas) (2.8.2)\n",
      "Requirement already satisfied: pytz>=2020.1 in c:\\users\\ahmed ashraf\\appdata\\local\\programs\\python\\python310\\lib\\site-packages (from pandas) (2023.3)\n",
      "Requirement already satisfied: six>=1.5 in c:\\users\\ahmed ashraf\\appdata\\local\\programs\\python\\python310\\lib\\site-packages (from python-dateutil>=2.8.1->pandas) (1.16.0)\n"
     ]
    },
    {
     "name": "stderr",
     "output_type": "stream",
     "text": [
      "\n",
      "[notice] A new release of pip is available: 23.0.1 -> 24.0\n",
      "[notice] To update, run: python.exe -m pip install --upgrade pip\n"
     ]
    }
   ],
   "source": [
    "!pip install pandas numpy"
   ]
  },
  {
   "cell_type": "code",
   "execution_count": 15,
   "metadata": {},
   "outputs": [],
   "source": [
    "import pandas as pd\n",
    "import numpy as np\n",
    "from random import choices"
   ]
  },
  {
   "cell_type": "markdown",
   "metadata": {},
   "source": [
    "### 1st Approach\n",
    "We will create dummy data using numpy and work with dummy df"
   ]
  },
  {
   "cell_type": "code",
   "execution_count": 16,
   "metadata": {},
   "outputs": [],
   "source": [
    "np.random.seed(10)\n",
    "num_records=1000\n",
    "num_outlets=100\n",
    "num_products=30"
   ]
  },
  {
   "cell_type": "code",
   "execution_count": 17,
   "metadata": {},
   "outputs": [
    {
     "data": {
      "text/plain": [
       "1000"
      ]
     },
     "execution_count": 17,
     "metadata": {},
     "output_type": "execute_result"
    }
   ],
   "source": [
    "# Generating date range for the first half of 2023 (Jan-Jun)\n",
    "dates = pd.date_range(start='2023-01-01', end='2023-06-30')\n",
    "\n",
    "# Selecting random dates from the generated date range\n",
    "dates = choices(dates, k=num_records)\n",
    "len(dates)"
   ]
  },
  {
   "cell_type": "code",
   "execution_count": 18,
   "metadata": {},
   "outputs": [
    {
     "data": {
      "text/plain": [
       "1000"
      ]
     },
     "execution_count": 18,
     "metadata": {},
     "output_type": "execute_result"
    }
   ],
   "source": [
    "outlets = ['Outlet_'+str(i+1) for i in range(num_outlets)]\n",
    "# Selecting random outlets from the given list\n",
    "outlets = choices(outlets, k=num_records)\n",
    "len(outlets)"
   ]
  },
  {
   "cell_type": "code",
   "execution_count": 19,
   "metadata": {},
   "outputs": [
    {
     "data": {
      "text/plain": [
       "1000"
      ]
     },
     "execution_count": 19,
     "metadata": {},
     "output_type": "execute_result"
    }
   ],
   "source": [
    "products = [\"Product_\"+str(i+1) for i in range(num_products)]\n",
    "products = choices(products, k=num_records)\n",
    "len(products)"
   ]
  },
  {
   "cell_type": "code",
   "execution_count": 20,
   "metadata": {},
   "outputs": [],
   "source": [
    "# Generating random units sold within the range of 1 to 300\n",
    "units_sold = np.random.randint(1, 300, num_records)\n",
    "\n",
    "# Generating random price per unit within the range of 10 to 50\n",
    "price_per_unit = np.random.uniform(10, 50, num_records)\n",
    "\n",
    "# Calculating total sales by multiplying units sold with price per unit\n",
    "total_sales = units_sold * price_per_unit"
   ]
  },
  {
   "cell_type": "code",
   "execution_count": 21,
   "metadata": {},
   "outputs": [
    {
     "data": {
      "text/html": [
       "<div>\n",
       "<style scoped>\n",
       "    .dataframe tbody tr th:only-of-type {\n",
       "        vertical-align: middle;\n",
       "    }\n",
       "\n",
       "    .dataframe tbody tr th {\n",
       "        vertical-align: top;\n",
       "    }\n",
       "\n",
       "    .dataframe thead th {\n",
       "        text-align: right;\n",
       "    }\n",
       "</style>\n",
       "<table border=\"1\" class=\"dataframe\">\n",
       "  <thead>\n",
       "    <tr style=\"text-align: right;\">\n",
       "      <th></th>\n",
       "      <th>Date</th>\n",
       "      <th>outlets</th>\n",
       "      <th>Products</th>\n",
       "      <th>Unit_sold</th>\n",
       "      <th>Price_Per_Unit</th>\n",
       "      <th>Total_Sales</th>\n",
       "    </tr>\n",
       "  </thead>\n",
       "  <tbody>\n",
       "    <tr>\n",
       "      <th>0</th>\n",
       "      <td>2023-06-18</td>\n",
       "      <td>Outlet_56</td>\n",
       "      <td>Product_1</td>\n",
       "      <td>266</td>\n",
       "      <td>24.302336</td>\n",
       "      <td>6464.421437</td>\n",
       "    </tr>\n",
       "    <tr>\n",
       "      <th>1</th>\n",
       "      <td>2023-05-11</td>\n",
       "      <td>Outlet_75</td>\n",
       "      <td>Product_29</td>\n",
       "      <td>126</td>\n",
       "      <td>47.104760</td>\n",
       "      <td>5935.199755</td>\n",
       "    </tr>\n",
       "    <tr>\n",
       "      <th>2</th>\n",
       "      <td>2023-01-08</td>\n",
       "      <td>Outlet_96</td>\n",
       "      <td>Product_11</td>\n",
       "      <td>16</td>\n",
       "      <td>45.284050</td>\n",
       "      <td>724.544792</td>\n",
       "    </tr>\n",
       "    <tr>\n",
       "      <th>3</th>\n",
       "      <td>2023-04-24</td>\n",
       "      <td>Outlet_59</td>\n",
       "      <td>Product_18</td>\n",
       "      <td>124</td>\n",
       "      <td>48.305120</td>\n",
       "      <td>5989.834844</td>\n",
       "    </tr>\n",
       "    <tr>\n",
       "      <th>4</th>\n",
       "      <td>2023-02-05</td>\n",
       "      <td>Outlet_63</td>\n",
       "      <td>Product_10</td>\n",
       "      <td>157</td>\n",
       "      <td>18.847811</td>\n",
       "      <td>2959.106399</td>\n",
       "    </tr>\n",
       "    <tr>\n",
       "      <th>...</th>\n",
       "      <td>...</td>\n",
       "      <td>...</td>\n",
       "      <td>...</td>\n",
       "      <td>...</td>\n",
       "      <td>...</td>\n",
       "      <td>...</td>\n",
       "    </tr>\n",
       "    <tr>\n",
       "      <th>995</th>\n",
       "      <td>2023-05-04</td>\n",
       "      <td>Outlet_73</td>\n",
       "      <td>Product_18</td>\n",
       "      <td>105</td>\n",
       "      <td>12.138754</td>\n",
       "      <td>1274.569156</td>\n",
       "    </tr>\n",
       "    <tr>\n",
       "      <th>996</th>\n",
       "      <td>2023-03-08</td>\n",
       "      <td>Outlet_23</td>\n",
       "      <td>Product_30</td>\n",
       "      <td>227</td>\n",
       "      <td>41.585490</td>\n",
       "      <td>9439.906214</td>\n",
       "    </tr>\n",
       "    <tr>\n",
       "      <th>997</th>\n",
       "      <td>2023-02-05</td>\n",
       "      <td>Outlet_19</td>\n",
       "      <td>Product_24</td>\n",
       "      <td>203</td>\n",
       "      <td>31.168276</td>\n",
       "      <td>6327.159974</td>\n",
       "    </tr>\n",
       "    <tr>\n",
       "      <th>998</th>\n",
       "      <td>2023-06-22</td>\n",
       "      <td>Outlet_59</td>\n",
       "      <td>Product_5</td>\n",
       "      <td>162</td>\n",
       "      <td>20.958885</td>\n",
       "      <td>3395.339443</td>\n",
       "    </tr>\n",
       "    <tr>\n",
       "      <th>999</th>\n",
       "      <td>2023-06-16</td>\n",
       "      <td>Outlet_9</td>\n",
       "      <td>Product_24</td>\n",
       "      <td>104</td>\n",
       "      <td>10.812111</td>\n",
       "      <td>1124.459536</td>\n",
       "    </tr>\n",
       "  </tbody>\n",
       "</table>\n",
       "<p>1000 rows × 6 columns</p>\n",
       "</div>"
      ],
      "text/plain": [
       "          Date    outlets    Products  Unit_sold  Price_Per_Unit  Total_Sales\n",
       "0   2023-06-18  Outlet_56   Product_1        266       24.302336  6464.421437\n",
       "1   2023-05-11  Outlet_75  Product_29        126       47.104760  5935.199755\n",
       "2   2023-01-08  Outlet_96  Product_11         16       45.284050   724.544792\n",
       "3   2023-04-24  Outlet_59  Product_18        124       48.305120  5989.834844\n",
       "4   2023-02-05  Outlet_63  Product_10        157       18.847811  2959.106399\n",
       "..         ...        ...         ...        ...             ...          ...\n",
       "995 2023-05-04  Outlet_73  Product_18        105       12.138754  1274.569156\n",
       "996 2023-03-08  Outlet_23  Product_30        227       41.585490  9439.906214\n",
       "997 2023-02-05  Outlet_19  Product_24        203       31.168276  6327.159974\n",
       "998 2023-06-22  Outlet_59   Product_5        162       20.958885  3395.339443\n",
       "999 2023-06-16   Outlet_9  Product_24        104       10.812111  1124.459536\n",
       "\n",
       "[1000 rows x 6 columns]"
      ]
     },
     "execution_count": 21,
     "metadata": {},
     "output_type": "execute_result"
    }
   ],
   "source": [
    "df = pd.DataFrame({\n",
    "    'Date': dates,\n",
    "    'outlets' : outlets,\n",
    "    'Products' : products,\n",
    "    'Unit_sold': units_sold,\n",
    "    'Price_Per_Unit': price_per_unit,\n",
    "    'Total_Sales' : total_sales\n",
    "})\n",
    "df"
   ]
  },
  {
   "cell_type": "markdown",
   "metadata": {},
   "source": [
    "Start Preparing LLM Enviroment"
   ]
  },
  {
   "cell_type": "code",
   "execution_count": 22,
   "metadata": {},
   "outputs": [],
   "source": [
    "# In order to use OpenAI models, you need to have an OpenAI API key. \n",
    "OPEN_AI_KEY = 'your-key'"
   ]
  },
  {
   "cell_type": "markdown",
   "metadata": {},
   "source": [
    "- PandasAI supports several large language models (LLMs). LLMs are used to generate code from natural language queries. The generated code is then executed to produce the result."
   ]
  },
  {
   "cell_type": "code",
   "execution_count": 23,
   "metadata": {},
   "outputs": [
    {
     "name": "stdout",
     "output_type": "stream",
     "text": [
      "Requirement already satisfied: pandasai in c:\\users\\ahmed ashraf\\appdata\\local\\programs\\python\\python310\\lib\\site-packages (2.0)\n",
      "Requirement already satisfied: faker<20.0.0,>=19.12.0 in c:\\users\\ahmed ashraf\\appdata\\local\\programs\\python\\python310\\lib\\site-packages (from pandasai) (19.13.0)\n",
      "Requirement already satisfied: python-dotenv<2.0.0,>=1.0.0 in c:\\users\\ahmed ashraf\\appdata\\local\\programs\\python\\python310\\lib\\site-packages (from pandasai) (1.0.1)\n",
      "Requirement already satisfied: requests<3.0.0,>=2.31.0 in c:\\users\\ahmed ashraf\\appdata\\local\\programs\\python\\python310\\lib\\site-packages (from pandasai) (2.31.0)\n",
      "Requirement already satisfied: pillow<11.0.0,>=10.1.0 in c:\\users\\ahmed ashraf\\appdata\\local\\programs\\python\\python310\\lib\\site-packages (from pandasai) (10.2.0)\n",
      "Requirement already satisfied: openai<2 in c:\\users\\ahmed ashraf\\appdata\\local\\programs\\python\\python310\\lib\\site-packages (from pandasai) (1.13.3)\n",
      "Requirement already satisfied: duckdb<0.10.0,>=0.9.2 in c:\\users\\ahmed ashraf\\appdata\\local\\programs\\python\\python310\\lib\\site-packages (from pandasai) (0.9.2)\n",
      "Requirement already satisfied: pydantic<3,>=1 in c:\\users\\ahmed ashraf\\appdata\\local\\programs\\python\\python310\\lib\\site-packages (from pandasai) (2.6.3)\n",
      "Requirement already satisfied: jinja2<4.0.0,>=3.1.3 in c:\\users\\ahmed ashraf\\appdata\\local\\programs\\python\\python310\\lib\\site-packages (from pandasai) (3.1.3)\n",
      "Requirement already satisfied: pandas==1.5.3 in c:\\users\\ahmed ashraf\\appdata\\local\\programs\\python\\python310\\lib\\site-packages (from pandasai) (1.5.3)\n",
      "Requirement already satisfied: astor<0.9.0,>=0.8.1 in c:\\users\\ahmed ashraf\\appdata\\local\\programs\\python\\python310\\lib\\site-packages (from pandasai) (0.8.1)\n",
      "Requirement already satisfied: scipy<2.0.0,>=1.9.0 in c:\\users\\ahmed ashraf\\appdata\\local\\programs\\python\\python310\\lib\\site-packages (from pandasai) (1.12.0)\n",
      "Requirement already satisfied: sqlalchemy<3,>=1.4 in c:\\users\\ahmed ashraf\\appdata\\local\\programs\\python\\python310\\lib\\site-packages (from pandasai) (1.4.51)\n",
      "Requirement already satisfied: flask<4.0.0,>=3.0.2 in c:\\users\\ahmed ashraf\\appdata\\local\\programs\\python\\python310\\lib\\site-packages (from pandasai) (3.0.2)\n",
      "Requirement already satisfied: matplotlib<4.0.0,>=3.7.1 in c:\\users\\ahmed ashraf\\appdata\\local\\programs\\python\\python310\\lib\\site-packages (from pandasai) (3.8.3)\n",
      "Requirement already satisfied: ipython<9.0.0,>=8.13.1 in c:\\users\\ahmed ashraf\\appdata\\local\\programs\\python\\python310\\lib\\site-packages (from pandasai) (8.14.0)\n",
      "Requirement already satisfied: python-dateutil>=2.8.1 in c:\\users\\ahmed ashraf\\appdata\\local\\programs\\python\\python310\\lib\\site-packages (from pandas==1.5.3->pandasai) (2.8.2)\n",
      "Requirement already satisfied: pytz>=2020.1 in c:\\users\\ahmed ashraf\\appdata\\local\\programs\\python\\python310\\lib\\site-packages (from pandas==1.5.3->pandasai) (2023.3)\n",
      "Requirement already satisfied: numpy>=1.21.0 in c:\\users\\ahmed ashraf\\appdata\\local\\programs\\python\\python310\\lib\\site-packages (from pandas==1.5.3->pandasai) (1.24.3)\n",
      "Requirement already satisfied: Werkzeug>=3.0.0 in c:\\users\\ahmed ashraf\\appdata\\local\\programs\\python\\python310\\lib\\site-packages (from flask<4.0.0,>=3.0.2->pandasai) (3.0.1)\n",
      "Requirement already satisfied: blinker>=1.6.2 in c:\\users\\ahmed ashraf\\appdata\\local\\programs\\python\\python310\\lib\\site-packages (from flask<4.0.0,>=3.0.2->pandasai) (1.7.0)\n",
      "Requirement already satisfied: click>=8.1.3 in c:\\users\\ahmed ashraf\\appdata\\local\\programs\\python\\python310\\lib\\site-packages (from flask<4.0.0,>=3.0.2->pandasai) (8.1.7)\n",
      "Requirement already satisfied: itsdangerous>=2.1.2 in c:\\users\\ahmed ashraf\\appdata\\local\\programs\\python\\python310\\lib\\site-packages (from flask<4.0.0,>=3.0.2->pandasai) (2.1.2)\n",
      "Requirement already satisfied: pygments>=2.4.0 in c:\\users\\ahmed ashraf\\appdata\\local\\programs\\python\\python310\\lib\\site-packages (from ipython<9.0.0,>=8.13.1->pandasai) (2.15.1)\n",
      "Requirement already satisfied: jedi>=0.16 in c:\\users\\ahmed ashraf\\appdata\\local\\programs\\python\\python310\\lib\\site-packages (from ipython<9.0.0,>=8.13.1->pandasai) (0.18.2)\n",
      "Requirement already satisfied: traitlets>=5 in c:\\users\\ahmed ashraf\\appdata\\local\\programs\\python\\python310\\lib\\site-packages (from ipython<9.0.0,>=8.13.1->pandasai) (5.9.0)\n",
      "Requirement already satisfied: prompt-toolkit!=3.0.37,<3.1.0,>=3.0.30 in c:\\users\\ahmed ashraf\\appdata\\local\\programs\\python\\python310\\lib\\site-packages (from ipython<9.0.0,>=8.13.1->pandasai) (3.0.38)\n",
      "Requirement already satisfied: backcall in c:\\users\\ahmed ashraf\\appdata\\local\\programs\\python\\python310\\lib\\site-packages (from ipython<9.0.0,>=8.13.1->pandasai) (0.2.0)\n",
      "Requirement already satisfied: stack-data in c:\\users\\ahmed ashraf\\appdata\\local\\programs\\python\\python310\\lib\\site-packages (from ipython<9.0.0,>=8.13.1->pandasai) (0.6.2)\n",
      "Requirement already satisfied: colorama in c:\\users\\ahmed ashraf\\appdata\\local\\programs\\python\\python310\\lib\\site-packages (from ipython<9.0.0,>=8.13.1->pandasai) (0.4.6)\n",
      "Requirement already satisfied: pickleshare in c:\\users\\ahmed ashraf\\appdata\\local\\programs\\python\\python310\\lib\\site-packages (from ipython<9.0.0,>=8.13.1->pandasai) (0.7.5)\n",
      "Requirement already satisfied: decorator in c:\\users\\ahmed ashraf\\appdata\\local\\programs\\python\\python310\\lib\\site-packages (from ipython<9.0.0,>=8.13.1->pandasai) (5.1.1)\n",
      "Requirement already satisfied: matplotlib-inline in c:\\users\\ahmed ashraf\\appdata\\local\\programs\\python\\python310\\lib\\site-packages (from ipython<9.0.0,>=8.13.1->pandasai) (0.1.6)\n",
      "Requirement already satisfied: MarkupSafe>=2.0 in c:\\users\\ahmed ashraf\\appdata\\local\\programs\\python\\python310\\lib\\site-packages (from jinja2<4.0.0,>=3.1.3->pandasai) (2.1.3)\n",
      "Requirement already satisfied: pyparsing>=2.3.1 in c:\\users\\ahmed ashraf\\appdata\\local\\programs\\python\\python310\\lib\\site-packages (from matplotlib<4.0.0,>=3.7.1->pandasai) (3.1.1)\n",
      "Requirement already satisfied: kiwisolver>=1.3.1 in c:\\users\\ahmed ashraf\\appdata\\local\\programs\\python\\python310\\lib\\site-packages (from matplotlib<4.0.0,>=3.7.1->pandasai) (1.4.5)\n",
      "Requirement already satisfied: fonttools>=4.22.0 in c:\\users\\ahmed ashraf\\appdata\\local\\programs\\python\\python310\\lib\\site-packages (from matplotlib<4.0.0,>=3.7.1->pandasai) (4.49.0)\n",
      "Requirement already satisfied: contourpy>=1.0.1 in c:\\users\\ahmed ashraf\\appdata\\local\\programs\\python\\python310\\lib\\site-packages (from matplotlib<4.0.0,>=3.7.1->pandasai) (1.2.0)\n",
      "Requirement already satisfied: packaging>=20.0 in c:\\users\\ahmed ashraf\\appdata\\local\\programs\\python\\python310\\lib\\site-packages (from matplotlib<4.0.0,>=3.7.1->pandasai) (23.1)\n",
      "Requirement already satisfied: cycler>=0.10 in c:\\users\\ahmed ashraf\\appdata\\local\\programs\\python\\python310\\lib\\site-packages (from matplotlib<4.0.0,>=3.7.1->pandasai) (0.12.1)\n",
      "Requirement already satisfied: tqdm>4 in c:\\users\\ahmed ashraf\\appdata\\local\\programs\\python\\python310\\lib\\site-packages (from openai<2->pandasai) (4.66.2)\n",
      "Requirement already satisfied: sniffio in c:\\users\\ahmed ashraf\\appdata\\local\\programs\\python\\python310\\lib\\site-packages (from openai<2->pandasai) (1.3.0)\n",
      "Requirement already satisfied: httpx<1,>=0.23.0 in c:\\users\\ahmed ashraf\\appdata\\local\\programs\\python\\python310\\lib\\site-packages (from openai<2->pandasai) (0.27.0)\n",
      "Requirement already satisfied: anyio<5,>=3.5.0 in c:\\users\\ahmed ashraf\\appdata\\local\\programs\\python\\python310\\lib\\site-packages (from openai<2->pandasai) (3.7.0)\n",
      "Requirement already satisfied: typing-extensions<5,>=4.7 in c:\\users\\ahmed ashraf\\appdata\\local\\programs\\python\\python310\\lib\\site-packages (from openai<2->pandasai) (4.10.0)\n",
      "Requirement already satisfied: distro<2,>=1.7.0 in c:\\users\\ahmed ashraf\\appdata\\local\\programs\\python\\python310\\lib\\site-packages (from openai<2->pandasai) (1.9.0)\n",
      "Requirement already satisfied: pydantic-core==2.16.3 in c:\\users\\ahmed ashraf\\appdata\\local\\programs\\python\\python310\\lib\\site-packages (from pydantic<3,>=1->pandasai) (2.16.3)\n",
      "Requirement already satisfied: annotated-types>=0.4.0 in c:\\users\\ahmed ashraf\\appdata\\local\\programs\\python\\python310\\lib\\site-packages (from pydantic<3,>=1->pandasai) (0.6.0)\n",
      "Requirement already satisfied: charset-normalizer<4,>=2 in c:\\users\\ahmed ashraf\\appdata\\local\\programs\\python\\python310\\lib\\site-packages (from requests<3.0.0,>=2.31.0->pandasai) (3.1.0)\n",
      "Requirement already satisfied: idna<4,>=2.5 in c:\\users\\ahmed ashraf\\appdata\\local\\programs\\python\\python310\\lib\\site-packages (from requests<3.0.0,>=2.31.0->pandasai) (3.4)\n",
      "Requirement already satisfied: certifi>=2017.4.17 in c:\\users\\ahmed ashraf\\appdata\\local\\programs\\python\\python310\\lib\\site-packages (from requests<3.0.0,>=2.31.0->pandasai) (2023.5.7)\n",
      "Requirement already satisfied: urllib3<3,>=1.21.1 in c:\\users\\ahmed ashraf\\appdata\\local\\programs\\python\\python310\\lib\\site-packages (from requests<3.0.0,>=2.31.0->pandasai) (1.26.16)\n",
      "Requirement already satisfied: greenlet!=0.4.17 in c:\\users\\ahmed ashraf\\appdata\\local\\programs\\python\\python310\\lib\\site-packages (from sqlalchemy<3,>=1.4->pandasai) (3.0.3)\n",
      "Requirement already satisfied: exceptiongroup in c:\\users\\ahmed ashraf\\appdata\\local\\programs\\python\\python310\\lib\\site-packages (from anyio<5,>=3.5.0->openai<2->pandasai) (1.1.1)\n",
      "Requirement already satisfied: httpcore==1.* in c:\\users\\ahmed ashraf\\appdata\\local\\programs\\python\\python310\\lib\\site-packages (from httpx<1,>=0.23.0->openai<2->pandasai) (1.0.4)\n",
      "Requirement already satisfied: h11<0.15,>=0.13 in c:\\users\\ahmed ashraf\\appdata\\local\\programs\\python\\python310\\lib\\site-packages (from httpcore==1.*->httpx<1,>=0.23.0->openai<2->pandasai) (0.14.0)\n",
      "Requirement already satisfied: parso<0.9.0,>=0.8.0 in c:\\users\\ahmed ashraf\\appdata\\local\\programs\\python\\python310\\lib\\site-packages (from jedi>=0.16->ipython<9.0.0,>=8.13.1->pandasai) (0.8.3)\n",
      "Requirement already satisfied: wcwidth in c:\\users\\ahmed ashraf\\appdata\\local\\programs\\python\\python310\\lib\\site-packages (from prompt-toolkit!=3.0.37,<3.1.0,>=3.0.30->ipython<9.0.0,>=8.13.1->pandasai) (0.2.6)\n",
      "Requirement already satisfied: six>=1.5 in c:\\users\\ahmed ashraf\\appdata\\local\\programs\\python\\python310\\lib\\site-packages (from python-dateutil>=2.8.1->pandas==1.5.3->pandasai) (1.16.0)\n",
      "Requirement already satisfied: asttokens>=2.1.0 in c:\\users\\ahmed ashraf\\appdata\\local\\programs\\python\\python310\\lib\\site-packages (from stack-data->ipython<9.0.0,>=8.13.1->pandasai) (2.2.1)\n",
      "Requirement already satisfied: pure-eval in c:\\users\\ahmed ashraf\\appdata\\local\\programs\\python\\python310\\lib\\site-packages (from stack-data->ipython<9.0.0,>=8.13.1->pandasai) (0.2.2)\n",
      "Requirement already satisfied: executing>=1.2.0 in c:\\users\\ahmed ashraf\\appdata\\local\\programs\\python\\python310\\lib\\site-packages (from stack-data->ipython<9.0.0,>=8.13.1->pandasai) (1.2.0)\n"
     ]
    },
    {
     "name": "stderr",
     "output_type": "stream",
     "text": [
      "\n",
      "[notice] A new release of pip is available: 23.0.1 -> 24.0\n",
      "[notice] To update, run: python.exe -m pip install --upgrade pip\n"
     ]
    }
   ],
   "source": [
    "# Installing and importing PandasAI library for using LLMs\n",
    "!pip install pandasai"
   ]
  },
  {
   "cell_type": "code",
   "execution_count": 24,
   "metadata": {},
   "outputs": [],
   "source": [
    "from pandasai import SmartDataframe\n",
    "from pandasai.llm.openai import OpenAI"
   ]
  },
  {
   "cell_type": "code",
   "execution_count": 25,
   "metadata": {},
   "outputs": [],
   "source": [
    "# Instantiating OpenAI LLM object with the provided API key\n",
    "llm = OpenAI(api_token=OPEN_AI_KEY)\n",
    "\n",
    "# Converting the DataFrame to a SmartDataframe with LLM configuration\n",
    "df = SmartDataframe(df, config={\"llm\": llm})"
   ]
  },
  {
   "cell_type": "code",
   "execution_count": 26,
   "metadata": {},
   "outputs": [
    {
     "data": {
      "text/plain": [
       "'The product with the highest total sales is: Product_25'"
      ]
     },
     "execution_count": 26,
     "metadata": {},
     "output_type": "execute_result"
    }
   ],
   "source": [
    "# Querying the LLM to find the product with the highest total sales\n",
    "highest_product = df.chat('Which product has the highest total_sales?')\n",
    "highest_product"
   ]
  },
  {
   "cell_type": "code",
   "execution_count": null,
   "metadata": {},
   "outputs": [],
   "source": [
    "# Formatting 'Price_Per_Unit' and 'Total_Sales' columns to two decimal places\n",
    "df.chat(\"Plot the chart of the products based on total_sales\")\n",
    "df"
   ]
  }
 ],
 "metadata": {
  "kernelspec": {
   "display_name": "Python 3",
   "language": "python",
   "name": "python3"
  },
  "language_info": {
   "codemirror_mode": {
    "name": "ipython",
    "version": 3
   },
   "file_extension": ".py",
   "mimetype": "text/x-python",
   "name": "python",
   "nbconvert_exporter": "python",
   "pygments_lexer": "ipython3",
   "version": "3.10.11"
  }
 },
 "nbformat": 4,
 "nbformat_minor": 2
}
